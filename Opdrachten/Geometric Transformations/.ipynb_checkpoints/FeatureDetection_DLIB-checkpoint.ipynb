{
 "cells": [
  {
   "cell_type": "code",
   "execution_count": 1,
   "metadata": {},
   "outputs": [],
   "source": [
    "import dlib\n",
    "from imutils import face_utils\n",
    "import imageio\n",
    "import skimage\n",
    "import os, random\n",
    "import sys\n",
    "import numpy as np\n",
    "import matplotlib.pyplot as plt\n",
    "from skimage import img_as_ubyte\n",
    "from skimage.color import rgb2gray\n",
    "import cv2"
   ]
  },
  {
   "cell_type": "code",
   "execution_count": 2,
   "metadata": {},
   "outputs": [
    {
     "ename": "ModuleNotFoundError",
     "evalue": "No module named 'DIP_Library'",
     "output_type": "error",
     "traceback": [
      "\u001b[1;31m---------------------------------------------------------------------------\u001b[0m",
      "\u001b[1;31mModuleNotFoundError\u001b[0m                       Traceback (most recent call last)",
      "\u001b[1;32m<ipython-input-2-2e650da16e27>\u001b[0m in \u001b[0;36m<module>\u001b[1;34m\u001b[0m\n\u001b[0;32m      1\u001b[0m \u001b[0mroot_folder\u001b[0m \u001b[1;33m=\u001b[0m \u001b[0mos\u001b[0m\u001b[1;33m.\u001b[0m\u001b[0mpath\u001b[0m\u001b[1;33m.\u001b[0m\u001b[0mdirname\u001b[0m\u001b[1;33m(\u001b[0m\u001b[0mos\u001b[0m\u001b[1;33m.\u001b[0m\u001b[0mgetcwd\u001b[0m\u001b[1;33m(\u001b[0m\u001b[1;33m)\u001b[0m\u001b[1;33m)\u001b[0m                  \u001b[1;31m# get repo root folder\u001b[0m\u001b[1;33m\u001b[0m\u001b[1;33m\u001b[0m\u001b[0m\n\u001b[0;32m      2\u001b[0m \u001b[0msys\u001b[0m\u001b[1;33m.\u001b[0m\u001b[0mpath\u001b[0m\u001b[1;33m.\u001b[0m\u001b[0minsert\u001b[0m\u001b[1;33m(\u001b[0m\u001b[1;36m0\u001b[0m\u001b[1;33m,\u001b[0m \u001b[0mroot_folder\u001b[0m\u001b[1;33m)\u001b[0m                             \u001b[1;31m# Add root folder to path. Needed so the DIP library can be imported.\u001b[0m\u001b[1;33m\u001b[0m\u001b[1;33m\u001b[0m\u001b[0m\n\u001b[1;32m----> 3\u001b[1;33m \u001b[1;32mfrom\u001b[0m \u001b[0mDIP_Library\u001b[0m \u001b[1;32mimport\u001b[0m \u001b[0mlpcfilter\u001b[0m\u001b[1;33m,\u001b[0m\u001b[0mhpcfilter\u001b[0m\u001b[1;33m,\u001b[0m\u001b[0mperiodic_noise\u001b[0m  \u001b[1;31m# Import the DIP lib\u001b[0m\u001b[1;33m\u001b[0m\u001b[1;33m\u001b[0m\u001b[0m\n\u001b[0m\u001b[0;32m      4\u001b[0m \u001b[1;33m\u001b[0m\u001b[0m\n\u001b[0;32m      5\u001b[0m \u001b[0mface_folder\u001b[0m \u001b[1;33m=\u001b[0m  \u001b[0mroot_folder\u001b[0m \u001b[1;33m+\u001b[0m \u001b[1;34m\"\\\\resources\\\\imgs\\\\faces\\\\\"\u001b[0m   \u001b[1;31m# appende image folder\u001b[0m\u001b[1;33m\u001b[0m\u001b[1;33m\u001b[0m\u001b[0m\n",
      "\u001b[1;31mModuleNotFoundError\u001b[0m: No module named 'DIP_Library'"
     ]
    }
   ],
   "source": [
    "face_folder =  root_folder + \"\\\\resources\\\\imgs\\\\faces\\\\\"   # appende image folder\n",
    "img_name = random.choice(os.listdir(face_folder))           # random face as input\n",
    "img = imageio.imread(face_folder+img_name)                  # load the image\n",
    "img = skimage.util.img_as_float(img)                        # Convert image data type\n",
    "\n",
    "Height,Width,depth = img.shape                              # Store image dimensions\n",
    "\n",
    "plt.axis('off');plt.imshow(img, cmap = 'gray')              # Show image"
   ]
  },
  {
   "cell_type": "code",
   "execution_count": 1,
   "metadata": {},
   "outputs": [],
   "source": [
    "def add_corners(pts, img):\n",
    "    \"\"\"Append corner and midpoint coordinates to a list of coordinates. Is compatible with lists or numpy arrays\n",
    "\n",
    "    Args:\n",
    "        pts : List of coordinations\n",
    "        img  \n",
    "\n",
    "    Returns:\n",
    "        _type_: _description_\n",
    "    \"\"\"\n",
    "    y,x,z = img.shape\n",
    "\n",
    "    TL = [0,0]; TR =[0,y]; BL = [x,0]; BR = [x,y]           # Coordinates for the corners\n",
    "\n",
    "    TM = [int(x/2),0];BM = [int(x/2),y]                     # Coordinates for left middle & right middle\n",
    "    LM = [0,int(y/2)];RM = [x,int(y/2)]                     # Coordinates for top middle & bottom middle\n",
    "\n",
    "    xtraPoints = np.array([TL,TR,BL,BR, LM, RM, TM, BM])    # Place them in a array to match the shape of pts\n",
    "    \n",
    "    if(isinstance(pts, np.ndarray)): pts = np.vstack((pts, xtraPoints))\n",
    "    else: pts.append(xtraPoints)                            # Append the extra points to pts\n",
    "\n",
    "    return pts                                              "
   ]
  },
  {
   "cell_type": "code",
   "execution_count": 2,
   "metadata": {},
   "outputs": [],
   "source": [
    "def featureDetectionDLIB(image, model_path:str, corners:bool=True, npArrayOut=False):\n",
    "    \"\"\"generates features of detected faces from a image. Output can be either a list or a single numpy array containing all the data in a vertical array\n",
    "\n",
    "    Args:\n",
    "        image : Image containg faces\n",
    "        model_path (str): Location to a trained model (.dat file)\n",
    "        corners (bool, optional):   Add extra corner and midpoint coordinates \n",
    "                                    to the list containing the features. Defaults to True.\n",
    "        npArrayOut (bool, optional): If true, output a numpy array instead of a list. Defaults to False\n",
    "\n",
    "    Returns:\n",
    "            A list of generated features [[img_width,img_height]:1]   \n",
    "    \"\"\"\n",
    "    detector = dlib.get_frontal_face_detector()         # Select face detector\n",
    "    predictor = dlib.shape_predictor(model_path)        # Load the trained model\n",
    "\n",
    "    grayscale = img_as_ubyte(rgb2gray(image))           # Convert to grayscale to match model input type\n",
    "    rects = detector(grayscale, upsample_num_times = 0) # Get rectangles containing faces\n",
    "\n",
    "    if npArrayOut: pts=np.empty(shape=[0, 2])\n",
    "    else: pts = []                                      # Init array that will contain features\n",
    "    print(rects)\n",
    "\n",
    "    for (i, rect) in enumerate(rects):                  # Iterate over each detected face\n",
    "        shape = predictor(grayscale, rect)              # Generate the featurs of a face\n",
    "        shape = face_utils.shape_to_np(shape)           # Convert to numpy array\n",
    "        if npArrayOut: pts = np.vstack((pts, shape))\n",
    "        else: pts.append(shape)                         # Append to the list\n",
    "\n",
    "    if(npArrayOut): pts\n",
    "    if(corners): pts = add_corners(pts,image)           # Generate extra points if needed for morphing\n",
    "\n",
    "    return pts\n"
   ]
  },
  {
   "cell_type": "code",
   "execution_count": 3,
   "metadata": {},
   "outputs": [
    {
     "ename": "NameError",
     "evalue": "name 'imageio' is not defined",
     "output_type": "error",
     "traceback": [
      "\u001b[1;31m---------------------------------------------------------------------------\u001b[0m",
      "\u001b[1;31mNameError\u001b[0m                                 Traceback (most recent call last)",
      "\u001b[1;32m<ipython-input-3-9b3a67733628>\u001b[0m in \u001b[0;36m<module>\u001b[1;34m\u001b[0m\n\u001b[1;32m----> 1\u001b[1;33m \u001b[0mimg\u001b[0m \u001b[1;33m=\u001b[0m \u001b[0mimageio\u001b[0m\u001b[1;33m.\u001b[0m\u001b[0mimread\u001b[0m\u001b[1;33m(\u001b[0m\u001b[0mface_folder\u001b[0m\u001b[1;33m+\u001b[0m\u001b[0mimg_name\u001b[0m\u001b[1;33m)\u001b[0m\u001b[1;33m\u001b[0m\u001b[1;33m\u001b[0m\u001b[0m\n\u001b[0m\u001b[0;32m      2\u001b[0m \u001b[0mimg\u001b[0m \u001b[1;33m=\u001b[0m \u001b[0mskimage\u001b[0m\u001b[1;33m.\u001b[0m\u001b[0mutil\u001b[0m\u001b[1;33m.\u001b[0m\u001b[0mimg_as_float\u001b[0m\u001b[1;33m(\u001b[0m\u001b[0mimg\u001b[0m\u001b[1;33m)\u001b[0m\u001b[1;33m\u001b[0m\u001b[1;33m\u001b[0m\u001b[0m\n\u001b[0;32m      3\u001b[0m \u001b[0mmodel\u001b[0m \u001b[1;33m=\u001b[0m \u001b[0mroot_folder\u001b[0m \u001b[1;33m+\u001b[0m \u001b[1;34m\"\\\\resources\\\\Models\\\\shape_predictor_68_face_landmarks.dat\"\u001b[0m\u001b[1;33m\u001b[0m\u001b[1;33m\u001b[0m\u001b[0m\n\u001b[0;32m      4\u001b[0m \u001b[1;31m#model = root_folder + \"\\\\resources\\\\Models\\\\shape_predictor_5_face_landmarks.dat\"\u001b[0m\u001b[1;33m\u001b[0m\u001b[1;33m\u001b[0m\u001b[1;33m\u001b[0m\u001b[0m\n\u001b[0;32m      5\u001b[0m \u001b[1;33m\u001b[0m\u001b[0m\n",
      "\u001b[1;31mNameError\u001b[0m: name 'imageio' is not defined"
     ]
    }
   ],
   "source": [
    "img = imageio.imread(face_folder+img_name)                                                                                 \n",
    "img = skimage.util.img_as_float(img) \n",
    "model = root_folder + \"\\\\resources\\\\Models\\\\shape_predictor_68_face_landmarks.dat\"\n",
    "#model = root_folder + \"\\\\resources\\\\Models\\\\shape_predictor_5_face_landmarks.dat\"    \n",
    "\n",
    "points = featureDetectionDLIB(img,model, True)\n",
    "for(point) in (points):\n",
    "    for (x,y) in point:\n",
    "        #print(\"x:\" + str(x) + \", y:\" + str(y))\n",
    "        cv2.circle(img, (x, y), 2, (0, 255, 0), -1)     # Draw a circle on all points\n",
    "\n",
    "\n",
    "plt.rcParams['figure.figsize'] = [10, 10];  \n",
    "plt.axis('off');plt.imshow(img) "
   ]
  },
  {
   "cell_type": "code",
   "execution_count": null,
   "metadata": {},
   "outputs": [],
   "source": []
  }
 ],
 "metadata": {
  "interpreter": {
   "hash": "cefd960dbc335ec101c2ce3fd9c92cbd342ab841a1fa475d68a6d44934fd1e62"
  },
  "kernelspec": {
   "display_name": "Python 3",
   "language": "python",
   "name": "python3"
  },
  "language_info": {
   "codemirror_mode": {
    "name": "ipython",
    "version": 3
   },
   "file_extension": ".py",
   "mimetype": "text/x-python",
   "name": "python",
   "nbconvert_exporter": "python",
   "pygments_lexer": "ipython3",
   "version": "3.6.10"
  }
 },
 "nbformat": 4,
 "nbformat_minor": 2
}
